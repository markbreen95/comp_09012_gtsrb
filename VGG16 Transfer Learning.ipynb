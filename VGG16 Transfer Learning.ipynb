{
 "cells": [
  {
   "cell_type": "code",
   "execution_count": 67,
   "metadata": {},
   "outputs": [],
   "source": [
    "import time\n",
    "import glob\n",
    "import numpy as np\n",
    "import pandas as pd\n",
    "import os\n",
    "import cv2\n",
    "from PIL import Image\n",
    "import matplotlib.pyplot as plt\n",
    "from sklearn.model_selection import train_test_split\n",
    "from sklearn.metrics import accuracy_score\n",
    "import tensorflow as tf\n",
    "from tensorflow import keras\n",
    "from keras import models\n",
    "from keras.engine import Model\n",
    "from keras.layers import Dropout, Flatten, Dense\n",
    "from keras.optimizers import Adam\n",
    "from keras.applications.vgg16 import VGG16\n",
    "np.random.seed(42)\n",
    "tf.random.set_seed(42)"
   ]
  },
  {
   "cell_type": "code",
   "execution_count": 68,
   "metadata": {},
   "outputs": [
    {
     "name": "stdout",
     "output_type": "stream",
     "text": [
      "1 Physical GPUs, 1 Logical GPUs\n"
     ]
    }
   ],
   "source": [
    "\"\"\"\n",
    "    Thanks to the suggestion in the following link for getting CUDA to work on Ampere:\n",
    "    https://stackoverflow.com/questions/38009682/how-to-tell-if-tensorflow-is-using-gpu-acceleration-from-inside-python-shell\n",
    "\n",
    "    Thanks also to this enlightening article which has a detailed workthrough of a transfer\n",
    "    learning example. Some of the code in this notebook is based off of the code in this article:\n",
    "    https://towardsdatascience.com/cnn-transfer-learning-fine-tuning-9f3e7c5806b2\n",
    "\n",
    "\"\"\"\n",
    "gpus = tf.config.experimental.list_physical_devices('GPU')\n",
    "if gpus:\n",
    "    try:\n",
    "        # Currently, memory growth needs to be the same across GPUs\n",
    "        for gpu in gpus:\n",
    "            tf.config.experimental.set_memory_growth(gpu, True)\n",
    "        logical_gpus = tf.config.experimental.list_logical_devices('GPU')\n",
    "        print(len(gpus), \"Physical GPUs,\", len(logical_gpus), \"Logical GPUs\")\n",
    "    except RuntimeError as e:\n",
    "        # Memory growth must be set before GPUs have been initialized\n",
    "        print(e)"
   ]
  },
  {
   "cell_type": "code",
   "execution_count": 69,
   "metadata": {},
   "outputs": [],
   "source": [
    "#physical_devices = tf.config.experimental.list_physical_devices('GPU')\n",
    "#assert len(physical_devices) > 0, \"Not enough GPU hardware devices available\"\n",
    "#config = tf.config.experimental.set_memory_growth(physical_devices[0], True)"
   ]
  },
  {
   "cell_type": "code",
   "execution_count": 70,
   "metadata": {},
   "outputs": [
    {
     "data": {
      "text/plain": [
       "True"
      ]
     },
     "execution_count": 70,
     "metadata": {},
     "output_type": "execute_result"
    }
   ],
   "source": [
    "tf.test.is_gpu_available(\n",
    "    cuda_only=False, min_cuda_compute_capability=None\n",
    ")"
   ]
  },
  {
   "cell_type": "code",
   "execution_count": 71,
   "metadata": {},
   "outputs": [],
   "source": [
    "NUM_CLASSES = 43\n",
    "WIDTH = 48\n",
    "HEIGHT = 48\n",
    "CHANNELS = 3"
   ]
  },
  {
   "cell_type": "code",
   "execution_count": 72,
   "metadata": {},
   "outputs": [],
   "source": [
    "def load_transform_train_data(folder):\n",
    "    start = time.time()\n",
    "    image_data = []\n",
    "    image_labels = []\n",
    "    #NUM_CLASSES = 43\n",
    "    #width = 48\n",
    "    #height = 48\n",
    "    #channels = 3\n",
    "\n",
    "    input_path = 'data/archive/'\n",
    "\n",
    "    for i in range(NUM_CLASSES):\n",
    "        path = input_path + '{}/'.format(folder) + str(i)\n",
    "        print(path)\n",
    "        images = os.listdir(path)\n",
    "\n",
    "        for img in images:\n",
    "            try:\n",
    "                image = cv2.imread(path + '/' + img)\n",
    "                image_fromarray = Image.fromarray(image, 'RGB')\n",
    "                resize_image = image_fromarray.resize((HEIGHT, WIDTH))\n",
    "                image_data.append(np.array(resize_image))\n",
    "                image_labels.append(i)\n",
    "            except:\n",
    "                print('Error - Image loading')\n",
    "\n",
    "    image_data = np.array(image_data)\n",
    "    image_labels = np.array(image_labels)\n",
    "    end = time.time()\n",
    "    print('Took {} seconds'.format(round(end-start, 5)))\n",
    "    if folder == 'Train':\n",
    "        print('Loaded Training data, splitting and normalising...')\n",
    "        shuffle_indexes = np.arange(image_data.shape[0])\n",
    "        np.random.shuffle(shuffle_indexes)\n",
    "        image_data = image_data[shuffle_indexes]\n",
    "        image_labels = image_labels[shuffle_indexes]\n",
    "        X_train, X_valid, y_train, y_valid = train_test_split(image_data, image_labels, test_size=0.2, random_state=42, shuffle=True)\n",
    "\n",
    "        X_train = X_train/255\n",
    "        X_valid = X_valid/255\n",
    "\n",
    "        print('X_train.shape {}'.format(X_train.shape))\n",
    "        print('X_valid.shape {}'.format(X_valid.shape))\n",
    "        \n",
    "        y_train = keras.utils.to_categorical(y_train, NUM_CLASSES)\n",
    "        y_valid = keras.utils.to_categorical(y_valid, NUM_CLASSES)\n",
    "\n",
    "        print('y_train.shape {}'.format(y_train.shape))\n",
    "        print('y_valid.shape {}'.format(y_valid.shape))\n",
    "        \n",
    "        return X_train, X_valid, y_train, y_valid\n",
    "\n",
    "    elif folder == 'Test':\n",
    "        print('Loaded Testing data, normalising...')\n",
    "        X_test = image_data/255\n",
    "        \n",
    "        print('X_test.shape {}'.format(X_test.shape))\n",
    "        \n",
    "        y_test = keras.utils.to_categorical(image_labels, NUM_CLASSES)\n",
    "        \n",
    "        print('y_test.shape {}'.format(y_test.shape))\n",
    "        \n",
    "        return X_test, y_test\n",
    "    \n",
    "    return image_data, image_labels"
   ]
  },
  {
   "cell_type": "code",
   "execution_count": 73,
   "metadata": {},
   "outputs": [
    {
     "name": "stdout",
     "output_type": "stream",
     "text": [
      "Took 21.79365 seconds\n",
      "X_test.shape (12630, 48, 48, 3)\n",
      "y_test.shape (12630, 43)\n"
     ]
    }
   ],
   "source": [
    "start = time.time()\n",
    "\n",
    "test_path = 'data/archive/Test\\\\'\n",
    "xpaths = glob.glob('{}*.png'.format(test_path))\n",
    "test_df = pd.read_csv('data/archive/Test.csv')\n",
    "\n",
    "image_data = []\n",
    "image_labels = []\n",
    "\n",
    "for path in xpaths:\n",
    "    img_name = path.replace(test_path, 'Test/')\n",
    "    #print(img_name)\n",
    "    img_class = test_df[test_df['Path'] == img_name]['ClassId'].values[0]\n",
    "    image_labels.append(img_class)\n",
    "    try:\n",
    "        image = cv2.imread(path)\n",
    "        image_fromarray = Image.fromarray(image, 'RGB')\n",
    "        resize_image = image_fromarray.resize((HEIGHT, WIDTH))\n",
    "        image_data.append(np.array(resize_image))\n",
    "        #image_labels.append(i)\n",
    "    except:\n",
    "        print('Error - Image loading')\n",
    "        \n",
    "image_data = np.array(image_data)\n",
    "image_labels = np.array(image_labels)\n",
    "end = time.time()\n",
    "print('Took {} seconds'.format(round(end-start, 5)))\n",
    "\n",
    "X_test = image_data/255\n",
    "\n",
    "print('X_test.shape {}'.format(X_test.shape))\n",
    "\n",
    "y_test = keras.utils.to_categorical(image_labels, NUM_CLASSES)\n",
    "\n",
    "print('y_test.shape {}'.format(y_test.shape))"
   ]
  },
  {
   "cell_type": "code",
   "execution_count": 74,
   "metadata": {},
   "outputs": [
    {
     "name": "stdout",
     "output_type": "stream",
     "text": [
      "data/archive/Train/0\n",
      "data/archive/Train/1\n",
      "data/archive/Train/2\n",
      "data/archive/Train/3\n",
      "data/archive/Train/4\n",
      "data/archive/Train/5\n",
      "data/archive/Train/6\n",
      "data/archive/Train/7\n",
      "data/archive/Train/8\n",
      "data/archive/Train/9\n",
      "data/archive/Train/10\n",
      "data/archive/Train/11\n",
      "data/archive/Train/12\n",
      "data/archive/Train/13\n",
      "data/archive/Train/14\n",
      "data/archive/Train/15\n",
      "data/archive/Train/16\n",
      "data/archive/Train/17\n",
      "data/archive/Train/18\n",
      "data/archive/Train/19\n",
      "data/archive/Train/20\n",
      "data/archive/Train/21\n",
      "data/archive/Train/22\n",
      "data/archive/Train/23\n",
      "data/archive/Train/24\n",
      "data/archive/Train/25\n",
      "data/archive/Train/26\n",
      "data/archive/Train/27\n",
      "data/archive/Train/28\n",
      "data/archive/Train/29\n",
      "data/archive/Train/30\n",
      "data/archive/Train/31\n",
      "data/archive/Train/32\n",
      "data/archive/Train/33\n",
      "data/archive/Train/34\n",
      "data/archive/Train/35\n",
      "data/archive/Train/36\n",
      "data/archive/Train/37\n",
      "data/archive/Train/38\n",
      "data/archive/Train/39\n",
      "data/archive/Train/40\n",
      "data/archive/Train/41\n",
      "data/archive/Train/42\n",
      "Took 26.32974 seconds\n",
      "Loaded Training data, splitting and normalising...\n",
      "X_train.shape (31367, 48, 48, 3)\n",
      "X_valid.shape (7842, 48, 48, 3)\n",
      "y_train.shape (31367, 43)\n",
      "y_valid.shape (7842, 43)\n"
     ]
    }
   ],
   "source": [
    "X_train, X_valid, y_train, y_valid = load_transform_train_data('Train')"
   ]
  },
  {
   "cell_type": "code",
   "execution_count": 75,
   "metadata": {},
   "outputs": [],
   "source": [
    "keras.backend.clear_session()\n",
    "np.random.seed(1)\n",
    "tf.random.set_seed(1)"
   ]
  },
  {
   "cell_type": "code",
   "execution_count": 76,
   "metadata": {},
   "outputs": [
    {
     "name": "stdout",
     "output_type": "stream",
     "text": [
      "Model: \"vgg16\"\n",
      "_________________________________________________________________\n",
      "Layer (type)                 Output Shape              Param #   \n",
      "=================================================================\n",
      "input_1 (InputLayer)         [(None, 48, 48, 3)]       0         \n",
      "_________________________________________________________________\n",
      "block1_conv1 (Conv2D)        (None, 48, 48, 64)        1792      \n",
      "_________________________________________________________________\n",
      "block1_conv2 (Conv2D)        (None, 48, 48, 64)        36928     \n",
      "_________________________________________________________________\n",
      "block1_pool (MaxPooling2D)   (None, 24, 24, 64)        0         \n",
      "_________________________________________________________________\n",
      "block2_conv1 (Conv2D)        (None, 24, 24, 128)       73856     \n",
      "_________________________________________________________________\n",
      "block2_conv2 (Conv2D)        (None, 24, 24, 128)       147584    \n",
      "_________________________________________________________________\n",
      "block2_pool (MaxPooling2D)   (None, 12, 12, 128)       0         \n",
      "_________________________________________________________________\n",
      "block3_conv1 (Conv2D)        (None, 12, 12, 256)       295168    \n",
      "_________________________________________________________________\n",
      "block3_conv2 (Conv2D)        (None, 12, 12, 256)       590080    \n",
      "_________________________________________________________________\n",
      "block3_conv3 (Conv2D)        (None, 12, 12, 256)       590080    \n",
      "_________________________________________________________________\n",
      "block3_pool (MaxPooling2D)   (None, 6, 6, 256)         0         \n",
      "_________________________________________________________________\n",
      "block4_conv1 (Conv2D)        (None, 6, 6, 512)         1180160   \n",
      "_________________________________________________________________\n",
      "block4_conv2 (Conv2D)        (None, 6, 6, 512)         2359808   \n",
      "_________________________________________________________________\n",
      "block4_conv3 (Conv2D)        (None, 6, 6, 512)         2359808   \n",
      "_________________________________________________________________\n",
      "block4_pool (MaxPooling2D)   (None, 3, 3, 512)         0         \n",
      "_________________________________________________________________\n",
      "block5_conv1 (Conv2D)        (None, 3, 3, 512)         2359808   \n",
      "_________________________________________________________________\n",
      "block5_conv2 (Conv2D)        (None, 3, 3, 512)         2359808   \n",
      "_________________________________________________________________\n",
      "block5_conv3 (Conv2D)        (None, 3, 3, 512)         2359808   \n",
      "_________________________________________________________________\n",
      "block5_pool (MaxPooling2D)   (None, 1, 1, 512)         0         \n",
      "=================================================================\n",
      "Total params: 14,714,688\n",
      "Trainable params: 14,714,688\n",
      "Non-trainable params: 0\n",
      "_________________________________________________________________\n"
     ]
    }
   ],
   "source": [
    "input_shape = (WIDTH, HEIGHT, CHANNELS)\n",
    "base_model = VGG16(weights='imagenet', include_top=False, input_shape=input_shape)\n",
    "base_model.summary()"
   ]
  },
  {
   "cell_type": "code",
   "execution_count": 77,
   "metadata": {},
   "outputs": [
    {
     "name": "stdout",
     "output_type": "stream",
     "text": [
      "Layer input_1 frozen\n",
      "Layer block1_conv1 frozen\n",
      "Layer block1_conv2 frozen\n",
      "Layer block1_pool frozen\n",
      "Layer block2_conv1 frozen\n",
      "Layer block2_conv2 frozen\n",
      "Layer block2_pool frozen\n",
      "Layer block3_conv1 frozen\n",
      "Layer block3_conv2 frozen\n",
      "Layer block3_conv3 frozen\n",
      "Layer block3_pool frozen\n",
      "Layer block4_conv1 frozen\n",
      "Layer block4_conv2 frozen\n",
      "Layer block4_conv3 frozen\n",
      "Layer block4_pool frozen\n",
      "Layer block5_conv1 frozen\n",
      "Layer block5_conv2 frozen\n",
      "Layer block5_conv3 frozen\n",
      "Layer block5_pool frozen\n"
     ]
    }
   ],
   "source": [
    "# Freeze every layer in base model so they don't train\n",
    "for layer in base_model.layers:\n",
    "    layer.trainable = False\n",
    "    print('Layer {} frozen'.format(layer.name))"
   ]
  },
  {
   "cell_type": "code",
   "execution_count": 78,
   "metadata": {},
   "outputs": [],
   "source": [
    "# Take the last layer of model and add to classifier\n",
    "last = base_model.layers[-1].output\n",
    "x = Flatten()(last)\n",
    "x = Dense(1000, activation='relu', name='fc1')(x)\n",
    "x = Dropout(0.3)(x)\n",
    "x = Dense(NUM_CLASSES, activation='softmax', name='predictions')(x)\n",
    "model = Model(base_model.input, x)"
   ]
  },
  {
   "cell_type": "code",
   "execution_count": 79,
   "metadata": {},
   "outputs": [
    {
     "name": "stdout",
     "output_type": "stream",
     "text": [
      "Model: \"model\"\n",
      "_________________________________________________________________\n",
      "Layer (type)                 Output Shape              Param #   \n",
      "=================================================================\n",
      "input_1 (InputLayer)         [(None, 48, 48, 3)]       0         \n",
      "_________________________________________________________________\n",
      "block1_conv1 (Conv2D)        (None, 48, 48, 64)        1792      \n",
      "_________________________________________________________________\n",
      "block1_conv2 (Conv2D)        (None, 48, 48, 64)        36928     \n",
      "_________________________________________________________________\n",
      "block1_pool (MaxPooling2D)   (None, 24, 24, 64)        0         \n",
      "_________________________________________________________________\n",
      "block2_conv1 (Conv2D)        (None, 24, 24, 128)       73856     \n",
      "_________________________________________________________________\n",
      "block2_conv2 (Conv2D)        (None, 24, 24, 128)       147584    \n",
      "_________________________________________________________________\n",
      "block2_pool (MaxPooling2D)   (None, 12, 12, 128)       0         \n",
      "_________________________________________________________________\n",
      "block3_conv1 (Conv2D)        (None, 12, 12, 256)       295168    \n",
      "_________________________________________________________________\n",
      "block3_conv2 (Conv2D)        (None, 12, 12, 256)       590080    \n",
      "_________________________________________________________________\n",
      "block3_conv3 (Conv2D)        (None, 12, 12, 256)       590080    \n",
      "_________________________________________________________________\n",
      "block3_pool (MaxPooling2D)   (None, 6, 6, 256)         0         \n",
      "_________________________________________________________________\n",
      "block4_conv1 (Conv2D)        (None, 6, 6, 512)         1180160   \n",
      "_________________________________________________________________\n",
      "block4_conv2 (Conv2D)        (None, 6, 6, 512)         2359808   \n",
      "_________________________________________________________________\n",
      "block4_conv3 (Conv2D)        (None, 6, 6, 512)         2359808   \n",
      "_________________________________________________________________\n",
      "block4_pool (MaxPooling2D)   (None, 3, 3, 512)         0         \n",
      "_________________________________________________________________\n",
      "block5_conv1 (Conv2D)        (None, 3, 3, 512)         2359808   \n",
      "_________________________________________________________________\n",
      "block5_conv2 (Conv2D)        (None, 3, 3, 512)         2359808   \n",
      "_________________________________________________________________\n",
      "block5_conv3 (Conv2D)        (None, 3, 3, 512)         2359808   \n",
      "_________________________________________________________________\n",
      "block5_pool (MaxPooling2D)   (None, 1, 1, 512)         0         \n",
      "_________________________________________________________________\n",
      "flatten (Flatten)            (None, 512)               0         \n",
      "_________________________________________________________________\n",
      "fc1 (Dense)                  (None, 1000)              513000    \n",
      "_________________________________________________________________\n",
      "dropout (Dropout)            (None, 1000)              0         \n",
      "_________________________________________________________________\n",
      "predictions (Dense)          (None, 43)                43043     \n",
      "=================================================================\n",
      "Total params: 15,270,731\n",
      "Trainable params: 556,043\n",
      "Non-trainable params: 14,714,688\n",
      "_________________________________________________________________\n"
     ]
    }
   ],
   "source": [
    "model.compile(optimizer=Adam(lr=0.001),\n",
    "             loss='categorical_crossentropy', metrics=['accuracy'])\n",
    "\n",
    "model.summary()"
   ]
  },
  {
   "cell_type": "code",
   "execution_count": 81,
   "metadata": {},
   "outputs": [
    {
     "name": "stdout",
     "output_type": "stream",
     "text": [
      "Epoch 1/20\n",
      "123/123 [==============================] - 5s 40ms/step - loss: 0.2291 - accuracy: 0.9332 - val_loss: 0.3078 - val_accuracy: 0.9149\n",
      "Epoch 2/20\n",
      "123/123 [==============================] - 5s 38ms/step - loss: 0.2170 - accuracy: 0.9376 - val_loss: 0.3060 - val_accuracy: 0.9121\n",
      "Epoch 3/20\n",
      "123/123 [==============================] - 5s 38ms/step - loss: 0.2071 - accuracy: 0.9398 - val_loss: 0.2977 - val_accuracy: 0.9174\n",
      "Epoch 4/20\n",
      "123/123 [==============================] - 5s 39ms/step - loss: 0.1952 - accuracy: 0.9442 - val_loss: 0.2919 - val_accuracy: 0.9172\n",
      "Epoch 5/20\n",
      "123/123 [==============================] - 5s 38ms/step - loss: 0.1860 - accuracy: 0.9456 - val_loss: 0.2921 - val_accuracy: 0.9139\n",
      "Epoch 6/20\n",
      "123/123 [==============================] - 5s 38ms/step - loss: 0.1753 - accuracy: 0.9506 - val_loss: 0.2749 - val_accuracy: 0.9241\n",
      "Epoch 7/20\n",
      "123/123 [==============================] - 5s 39ms/step - loss: 0.1693 - accuracy: 0.9508 - val_loss: 0.2746 - val_accuracy: 0.9194\n",
      "Epoch 8/20\n",
      "123/123 [==============================] - 5s 42ms/step - loss: 0.1581 - accuracy: 0.9552 - val_loss: 0.2682 - val_accuracy: 0.9246\n",
      "Epoch 9/20\n",
      "123/123 [==============================] - 5s 41ms/step - loss: 0.1509 - accuracy: 0.9576 - val_loss: 0.2638 - val_accuracy: 0.9253\n",
      "Epoch 10/20\n",
      "123/123 [==============================] - 5s 40ms/step - loss: 0.1483 - accuracy: 0.9585 - val_loss: 0.2608 - val_accuracy: 0.9239\n",
      "Epoch 11/20\n",
      "123/123 [==============================] - 5s 40ms/step - loss: 0.1378 - accuracy: 0.9613 - val_loss: 0.2522 - val_accuracy: 0.9281\n",
      "Epoch 12/20\n",
      "123/123 [==============================] - 5s 41ms/step - loss: 0.1343 - accuracy: 0.9629 - val_loss: 0.2510 - val_accuracy: 0.9281\n",
      "Epoch 13/20\n",
      "123/123 [==============================] - 5s 42ms/step - loss: 0.1244 - accuracy: 0.9664 - val_loss: 0.2461 - val_accuracy: 0.9306\n",
      "Epoch 14/20\n",
      "123/123 [==============================] - 5s 41ms/step - loss: 0.1198 - accuracy: 0.9668 - val_loss: 0.2365 - val_accuracy: 0.9322\n",
      "Epoch 15/20\n",
      "123/123 [==============================] - 5s 40ms/step - loss: 0.1176 - accuracy: 0.9675 - val_loss: 0.2430 - val_accuracy: 0.9336\n",
      "Epoch 16/20\n",
      "123/123 [==============================] - 5s 40ms/step - loss: 0.1147 - accuracy: 0.9672 - val_loss: 0.2349 - val_accuracy: 0.9362\n",
      "Epoch 17/20\n",
      "123/123 [==============================] - 5s 40ms/step - loss: 0.1080 - accuracy: 0.9694 - val_loss: 0.2322 - val_accuracy: 0.9346\n",
      "Epoch 18/20\n",
      "123/123 [==============================] - 5s 40ms/step - loss: 0.1039 - accuracy: 0.9712 - val_loss: 0.2285 - val_accuracy: 0.9384\n",
      "Epoch 19/20\n",
      "123/123 [==============================] - 5s 40ms/step - loss: 0.1001 - accuracy: 0.9729 - val_loss: 0.2318 - val_accuracy: 0.9357\n",
      "Epoch 20/20\n",
      "123/123 [==============================] - 5s 40ms/step - loss: 0.0979 - accuracy: 0.9735 - val_loss: 0.2277 - val_accuracy: 0.9365\n",
      "Training took 98.7228 seconds\n"
     ]
    }
   ],
   "source": [
    "start = time.time()\n",
    "epochs = 20\n",
    "batch_size = 256\n",
    "\n",
    "model.fit(X_train, y_train, batch_size=batch_size,\n",
    "         validation_data=(X_valid, y_valid),\n",
    "         epochs=epochs)\n",
    "end = time.time()\n",
    "print('Training took {} seconds'.format(round(end-start, 5)))"
   ]
  },
  {
   "cell_type": "code",
   "execution_count": 82,
   "metadata": {},
   "outputs": [
    {
     "name": "stdout",
     "output_type": "stream",
     "text": [
      "395/395 [==============================] - 4s 9ms/step - loss: 2.0551 - accuracy: 0.6189: 0s - loss: 2.0551 - accuracy: 0.61\n",
      "Test Loss: 2.0550825595855713\n",
      "Test Accuracy: 0.6189231872558594\n"
     ]
    }
   ],
   "source": [
    "scores = model.evaluate(X_test, y_test, verbose=1)\n",
    "print('Test Loss: {}'.format(scores[0]))\n",
    "print('Test Accuracy: {}'.format(scores[1]))"
   ]
  },
  {
   "cell_type": "markdown",
   "metadata": {},
   "source": [
    "# Retrain Some Layers"
   ]
  },
  {
   "cell_type": "code",
   "execution_count": 83,
   "metadata": {},
   "outputs": [
    {
     "name": "stdout",
     "output_type": "stream",
     "text": [
      "Model: \"vgg16\"\n",
      "_________________________________________________________________\n",
      "Layer (type)                 Output Shape              Param #   \n",
      "=================================================================\n",
      "input_2 (InputLayer)         [(None, 48, 48, 3)]       0         \n",
      "_________________________________________________________________\n",
      "block1_conv1 (Conv2D)        (None, 48, 48, 64)        1792      \n",
      "_________________________________________________________________\n",
      "block1_conv2 (Conv2D)        (None, 48, 48, 64)        36928     \n",
      "_________________________________________________________________\n",
      "block1_pool (MaxPooling2D)   (None, 24, 24, 64)        0         \n",
      "_________________________________________________________________\n",
      "block2_conv1 (Conv2D)        (None, 24, 24, 128)       73856     \n",
      "_________________________________________________________________\n",
      "block2_conv2 (Conv2D)        (None, 24, 24, 128)       147584    \n",
      "_________________________________________________________________\n",
      "block2_pool (MaxPooling2D)   (None, 12, 12, 128)       0         \n",
      "_________________________________________________________________\n",
      "block3_conv1 (Conv2D)        (None, 12, 12, 256)       295168    \n",
      "_________________________________________________________________\n",
      "block3_conv2 (Conv2D)        (None, 12, 12, 256)       590080    \n",
      "_________________________________________________________________\n",
      "block3_conv3 (Conv2D)        (None, 12, 12, 256)       590080    \n",
      "_________________________________________________________________\n",
      "block3_pool (MaxPooling2D)   (None, 6, 6, 256)         0         \n",
      "_________________________________________________________________\n",
      "block4_conv1 (Conv2D)        (None, 6, 6, 512)         1180160   \n",
      "_________________________________________________________________\n",
      "block4_conv2 (Conv2D)        (None, 6, 6, 512)         2359808   \n",
      "_________________________________________________________________\n",
      "block4_conv3 (Conv2D)        (None, 6, 6, 512)         2359808   \n",
      "_________________________________________________________________\n",
      "block4_pool (MaxPooling2D)   (None, 3, 3, 512)         0         \n",
      "_________________________________________________________________\n",
      "block5_conv1 (Conv2D)        (None, 3, 3, 512)         2359808   \n",
      "_________________________________________________________________\n",
      "block5_conv2 (Conv2D)        (None, 3, 3, 512)         2359808   \n",
      "_________________________________________________________________\n",
      "block5_conv3 (Conv2D)        (None, 3, 3, 512)         2359808   \n",
      "_________________________________________________________________\n",
      "block5_pool (MaxPooling2D)   (None, 1, 1, 512)         0         \n",
      "=================================================================\n",
      "Total params: 14,714,688\n",
      "Trainable params: 14,714,688\n",
      "Non-trainable params: 0\n",
      "_________________________________________________________________\n"
     ]
    }
   ],
   "source": [
    "base_model = VGG16(weights='imagenet', include_top=False, input_shape=input_shape)\n",
    "base_model.summary()"
   ]
  },
  {
   "cell_type": "code",
   "execution_count": 84,
   "metadata": {},
   "outputs": [
    {
     "name": "stdout",
     "output_type": "stream",
     "text": [
      "Layer input_2 frozen.\n",
      "Layer block1_conv1 frozen.\n",
      "Layer block1_conv2 frozen.\n",
      "Layer block1_pool frozen.\n",
      "Layer block2_conv1 frozen.\n",
      "Layer block2_conv2 frozen.\n",
      "Layer block2_pool frozen.\n",
      "Layer block3_conv1 frozen.\n",
      "Layer block3_conv2 frozen.\n",
      "Layer block3_conv3 frozen.\n",
      "Layer block3_pool frozen.\n",
      "Layer block4_conv1 frozen.\n",
      "Layer block4_conv2 frozen.\n",
      "Layer block4_conv3 frozen.\n",
      "Layer block4_pool frozen.\n"
     ]
    }
   ],
   "source": [
    "for layer in base_model.layers:\n",
    "    if layer.name == 'block5_conv1':\n",
    "        break\n",
    "    layer.trainable = False\n",
    "    print('Layer {} frozen.'.format(layer.name))"
   ]
  },
  {
   "cell_type": "code",
   "execution_count": 85,
   "metadata": {},
   "outputs": [],
   "source": [
    "# Take the last layer of model and add to classifier\n",
    "last = base_model.layers[-1].output\n",
    "x = Flatten()(last)\n",
    "x = Dense(1000, activation='relu', name='fc1')(x)\n",
    "x = Dropout(0.3)(x)\n",
    "x = Dense(NUM_CLASSES, activation='softmax', name='predictions')(x)\n",
    "model = Model(base_model.input, x)"
   ]
  },
  {
   "cell_type": "code",
   "execution_count": 86,
   "metadata": {},
   "outputs": [],
   "source": [
    "model.compile(optimizer=Adam(lr=0.001), loss='categorical_crossentropy', metrics=['accuracy'])"
   ]
  },
  {
   "cell_type": "code",
   "execution_count": 87,
   "metadata": {},
   "outputs": [
    {
     "name": "stdout",
     "output_type": "stream",
     "text": [
      "Model: \"model_1\"\n",
      "_________________________________________________________________\n",
      "Layer (type)                 Output Shape              Param #   \n",
      "=================================================================\n",
      "input_2 (InputLayer)         [(None, 48, 48, 3)]       0         \n",
      "_________________________________________________________________\n",
      "block1_conv1 (Conv2D)        (None, 48, 48, 64)        1792      \n",
      "_________________________________________________________________\n",
      "block1_conv2 (Conv2D)        (None, 48, 48, 64)        36928     \n",
      "_________________________________________________________________\n",
      "block1_pool (MaxPooling2D)   (None, 24, 24, 64)        0         \n",
      "_________________________________________________________________\n",
      "block2_conv1 (Conv2D)        (None, 24, 24, 128)       73856     \n",
      "_________________________________________________________________\n",
      "block2_conv2 (Conv2D)        (None, 24, 24, 128)       147584    \n",
      "_________________________________________________________________\n",
      "block2_pool (MaxPooling2D)   (None, 12, 12, 128)       0         \n",
      "_________________________________________________________________\n",
      "block3_conv1 (Conv2D)        (None, 12, 12, 256)       295168    \n",
      "_________________________________________________________________\n",
      "block3_conv2 (Conv2D)        (None, 12, 12, 256)       590080    \n",
      "_________________________________________________________________\n",
      "block3_conv3 (Conv2D)        (None, 12, 12, 256)       590080    \n",
      "_________________________________________________________________\n",
      "block3_pool (MaxPooling2D)   (None, 6, 6, 256)         0         \n",
      "_________________________________________________________________\n",
      "block4_conv1 (Conv2D)        (None, 6, 6, 512)         1180160   \n",
      "_________________________________________________________________\n",
      "block4_conv2 (Conv2D)        (None, 6, 6, 512)         2359808   \n",
      "_________________________________________________________________\n",
      "block4_conv3 (Conv2D)        (None, 6, 6, 512)         2359808   \n",
      "_________________________________________________________________\n",
      "block4_pool (MaxPooling2D)   (None, 3, 3, 512)         0         \n",
      "_________________________________________________________________\n",
      "block5_conv1 (Conv2D)        (None, 3, 3, 512)         2359808   \n",
      "_________________________________________________________________\n",
      "block5_conv2 (Conv2D)        (None, 3, 3, 512)         2359808   \n",
      "_________________________________________________________________\n",
      "block5_conv3 (Conv2D)        (None, 3, 3, 512)         2359808   \n",
      "_________________________________________________________________\n",
      "block5_pool (MaxPooling2D)   (None, 1, 1, 512)         0         \n",
      "_________________________________________________________________\n",
      "flatten_1 (Flatten)          (None, 512)               0         \n",
      "_________________________________________________________________\n",
      "fc1 (Dense)                  (None, 1000)              513000    \n",
      "_________________________________________________________________\n",
      "dropout_1 (Dropout)          (None, 1000)              0         \n",
      "_________________________________________________________________\n",
      "predictions (Dense)          (None, 43)                43043     \n",
      "=================================================================\n",
      "Total params: 15,270,731\n",
      "Trainable params: 7,635,467\n",
      "Non-trainable params: 7,635,264\n",
      "_________________________________________________________________\n"
     ]
    }
   ],
   "source": [
    "model.summary()"
   ]
  },
  {
   "cell_type": "code",
   "execution_count": 88,
   "metadata": {},
   "outputs": [
    {
     "name": "stdout",
     "output_type": "stream",
     "text": [
      "Epoch 1/20\n",
      "123/123 [==============================] - 7s 52ms/step - loss: 2.5643 - accuracy: 0.2599 - val_loss: 0.9395 - val_accuracy: 0.6765\n",
      "Epoch 2/20\n",
      "123/123 [==============================] - 6s 51ms/step - loss: 0.7904 - accuracy: 0.7238 - val_loss: 0.3650 - val_accuracy: 0.8804\n",
      "Epoch 3/20\n",
      "123/123 [==============================] - 6s 49ms/step - loss: 0.3254 - accuracy: 0.8909 - val_loss: 0.2588 - val_accuracy: 0.9153\n",
      "Epoch 4/20\n",
      "123/123 [==============================] - 6s 45ms/step - loss: 0.1665 - accuracy: 0.9453 - val_loss: 0.1662 - val_accuracy: 0.9481\n",
      "Epoch 5/20\n",
      "123/123 [==============================] - 6s 45ms/step - loss: 0.1203 - accuracy: 0.9606 - val_loss: 0.1651 - val_accuracy: 0.9509\n",
      "Epoch 6/20\n",
      "123/123 [==============================] - 6s 45ms/step - loss: 0.0828 - accuracy: 0.9725 - val_loss: 0.0991 - val_accuracy: 0.9725\n",
      "Epoch 7/20\n",
      "123/123 [==============================] - 6s 45ms/step - loss: 0.0653 - accuracy: 0.9774 - val_loss: 0.1545 - val_accuracy: 0.9509\n",
      "Epoch 8/20\n",
      "123/123 [==============================] - 6s 45ms/step - loss: 0.0633 - accuracy: 0.9806 - val_loss: 0.0970 - val_accuracy: 0.9721\n",
      "Epoch 9/20\n",
      "123/123 [==============================] - 6s 45ms/step - loss: 0.0610 - accuracy: 0.9796 - val_loss: 0.1175 - val_accuracy: 0.9675\n",
      "Epoch 10/20\n",
      "123/123 [==============================] - 5s 45ms/step - loss: 0.0421 - accuracy: 0.9870 - val_loss: 0.1029 - val_accuracy: 0.9717\n",
      "Epoch 11/20\n",
      "123/123 [==============================] - 5s 45ms/step - loss: 0.0374 - accuracy: 0.9878 - val_loss: 0.1028 - val_accuracy: 0.9693\n",
      "Epoch 12/20\n",
      "123/123 [==============================] - 5s 45ms/step - loss: 0.0481 - accuracy: 0.9836 - val_loss: 0.1063 - val_accuracy: 0.9698\n",
      "Epoch 13/20\n",
      "123/123 [==============================] - 5s 45ms/step - loss: 0.0495 - accuracy: 0.9840 - val_loss: 0.1039 - val_accuracy: 0.9690\n",
      "Epoch 14/20\n",
      "123/123 [==============================] - 5s 45ms/step - loss: 0.0290 - accuracy: 0.9909 - val_loss: 0.0958 - val_accuracy: 0.9751\n",
      "Epoch 15/20\n",
      "123/123 [==============================] - 5s 45ms/step - loss: 0.0341 - accuracy: 0.9890 - val_loss: 0.1399 - val_accuracy: 0.9621\n",
      "Epoch 16/20\n",
      "123/123 [==============================] - 6s 45ms/step - loss: 0.0495 - accuracy: 0.9845 - val_loss: 0.0870 - val_accuracy: 0.9759\n",
      "Epoch 17/20\n",
      "123/123 [==============================] - 6s 45ms/step - loss: 0.0186 - accuracy: 0.9936 - val_loss: 0.1141 - val_accuracy: 0.9714\n",
      "Epoch 18/20\n",
      "123/123 [==============================] - 6s 45ms/step - loss: 0.0252 - accuracy: 0.9931 - val_loss: 0.0692 - val_accuracy: 0.9832\n",
      "Epoch 19/20\n",
      "123/123 [==============================] - 6s 45ms/step - loss: 0.0273 - accuracy: 0.9926 - val_loss: 0.1054 - val_accuracy: 0.9711\n",
      "Epoch 20/20\n",
      "123/123 [==============================] - 5s 45ms/step - loss: 0.0318 - accuracy: 0.9903 - val_loss: 0.1055 - val_accuracy: 0.9768\n",
      "Training took 113.66521 seconds\n"
     ]
    }
   ],
   "source": [
    "start = time.time()\n",
    "epochs = 20\n",
    "batch_size = 256\n",
    "\n",
    "model.fit(X_train, y_train, batch_size=batch_size,\n",
    "         validation_data=(X_valid, y_valid),\n",
    "         epochs=epochs)\n",
    "end = time.time()\n",
    "print('Training took {} seconds'.format(round(end-start, 5)))"
   ]
  },
  {
   "cell_type": "code",
   "execution_count": 89,
   "metadata": {},
   "outputs": [
    {
     "name": "stdout",
     "output_type": "stream",
     "text": [
      "395/395 [==============================] - 3s 8ms/step - loss: 1.2842 - accuracy: 0.8084\n",
      "Test Loss: 1.2841975688934326\n",
      "Test Accuracy: 0.8083927035331726\n"
     ]
    }
   ],
   "source": [
    "scores = model.evaluate(X_test, y_test, verbose=1)\n",
    "print('Test Loss: {}'.format(scores[0]))\n",
    "print('Test Accuracy: {}'.format(scores[1]))"
   ]
  },
  {
   "cell_type": "markdown",
   "metadata": {},
   "source": [
    "# Retrain More Layers"
   ]
  },
  {
   "cell_type": "code",
   "execution_count": 90,
   "metadata": {},
   "outputs": [
    {
     "name": "stdout",
     "output_type": "stream",
     "text": [
      "Model: \"vgg16\"\n",
      "_________________________________________________________________\n",
      "Layer (type)                 Output Shape              Param #   \n",
      "=================================================================\n",
      "input_3 (InputLayer)         [(None, 48, 48, 3)]       0         \n",
      "_________________________________________________________________\n",
      "block1_conv1 (Conv2D)        (None, 48, 48, 64)        1792      \n",
      "_________________________________________________________________\n",
      "block1_conv2 (Conv2D)        (None, 48, 48, 64)        36928     \n",
      "_________________________________________________________________\n",
      "block1_pool (MaxPooling2D)   (None, 24, 24, 64)        0         \n",
      "_________________________________________________________________\n",
      "block2_conv1 (Conv2D)        (None, 24, 24, 128)       73856     \n",
      "_________________________________________________________________\n",
      "block2_conv2 (Conv2D)        (None, 24, 24, 128)       147584    \n",
      "_________________________________________________________________\n",
      "block2_pool (MaxPooling2D)   (None, 12, 12, 128)       0         \n",
      "_________________________________________________________________\n",
      "block3_conv1 (Conv2D)        (None, 12, 12, 256)       295168    \n",
      "_________________________________________________________________\n",
      "block3_conv2 (Conv2D)        (None, 12, 12, 256)       590080    \n",
      "_________________________________________________________________\n",
      "block3_conv3 (Conv2D)        (None, 12, 12, 256)       590080    \n",
      "_________________________________________________________________\n",
      "block3_pool (MaxPooling2D)   (None, 6, 6, 256)         0         \n",
      "_________________________________________________________________\n",
      "block4_conv1 (Conv2D)        (None, 6, 6, 512)         1180160   \n",
      "_________________________________________________________________\n",
      "block4_conv2 (Conv2D)        (None, 6, 6, 512)         2359808   \n",
      "_________________________________________________________________\n",
      "block4_conv3 (Conv2D)        (None, 6, 6, 512)         2359808   \n",
      "_________________________________________________________________\n",
      "block4_pool (MaxPooling2D)   (None, 3, 3, 512)         0         \n",
      "_________________________________________________________________\n",
      "block5_conv1 (Conv2D)        (None, 3, 3, 512)         2359808   \n",
      "_________________________________________________________________\n",
      "block5_conv2 (Conv2D)        (None, 3, 3, 512)         2359808   \n",
      "_________________________________________________________________\n",
      "block5_conv3 (Conv2D)        (None, 3, 3, 512)         2359808   \n",
      "_________________________________________________________________\n",
      "block5_pool (MaxPooling2D)   (None, 1, 1, 512)         0         \n",
      "=================================================================\n",
      "Total params: 14,714,688\n",
      "Trainable params: 14,714,688\n",
      "Non-trainable params: 0\n",
      "_________________________________________________________________\n"
     ]
    }
   ],
   "source": [
    "base_model = VGG16(weights='imagenet', include_top=False, input_shape=input_shape)\n",
    "base_model.summary()"
   ]
  },
  {
   "cell_type": "code",
   "execution_count": 91,
   "metadata": {},
   "outputs": [
    {
     "name": "stdout",
     "output_type": "stream",
     "text": [
      "Layer input_3 frozen.\n",
      "Layer block1_conv1 frozen.\n",
      "Layer block1_conv2 frozen.\n",
      "Layer block1_pool frozen.\n",
      "Layer block2_conv1 frozen.\n",
      "Layer block2_conv2 frozen.\n",
      "Layer block2_pool frozen.\n",
      "Layer block3_conv1 frozen.\n",
      "Layer block3_conv2 frozen.\n",
      "Layer block3_conv3 frozen.\n",
      "Layer block3_pool frozen.\n"
     ]
    }
   ],
   "source": [
    "for layer in base_model.layers:\n",
    "    if layer.name == 'block4_conv1':\n",
    "        break\n",
    "    layer.trainable = False\n",
    "    print('Layer {} frozen.'.format(layer.name))"
   ]
  },
  {
   "cell_type": "code",
   "execution_count": 92,
   "metadata": {},
   "outputs": [],
   "source": [
    "# Take the last layer of model and add to classifier\n",
    "last = base_model.layers[-1].output\n",
    "x = Flatten()(last)\n",
    "x = Dense(1000, activation='relu', name='fc1')(x)\n",
    "x = Dropout(0.3)(x)\n",
    "x = Dense(NUM_CLASSES, activation='softmax', name='predictions')(x)\n",
    "model = Model(base_model.input, x)"
   ]
  },
  {
   "cell_type": "code",
   "execution_count": 93,
   "metadata": {},
   "outputs": [],
   "source": [
    "model.compile(optimizer=Adam(lr=0.001), loss='categorical_crossentropy', metrics=['accuracy'])"
   ]
  },
  {
   "cell_type": "code",
   "execution_count": 94,
   "metadata": {},
   "outputs": [
    {
     "name": "stdout",
     "output_type": "stream",
     "text": [
      "Model: \"model_2\"\n",
      "_________________________________________________________________\n",
      "Layer (type)                 Output Shape              Param #   \n",
      "=================================================================\n",
      "input_3 (InputLayer)         [(None, 48, 48, 3)]       0         \n",
      "_________________________________________________________________\n",
      "block1_conv1 (Conv2D)        (None, 48, 48, 64)        1792      \n",
      "_________________________________________________________________\n",
      "block1_conv2 (Conv2D)        (None, 48, 48, 64)        36928     \n",
      "_________________________________________________________________\n",
      "block1_pool (MaxPooling2D)   (None, 24, 24, 64)        0         \n",
      "_________________________________________________________________\n",
      "block2_conv1 (Conv2D)        (None, 24, 24, 128)       73856     \n",
      "_________________________________________________________________\n",
      "block2_conv2 (Conv2D)        (None, 24, 24, 128)       147584    \n",
      "_________________________________________________________________\n",
      "block2_pool (MaxPooling2D)   (None, 12, 12, 128)       0         \n",
      "_________________________________________________________________\n",
      "block3_conv1 (Conv2D)        (None, 12, 12, 256)       295168    \n",
      "_________________________________________________________________\n",
      "block3_conv2 (Conv2D)        (None, 12, 12, 256)       590080    \n",
      "_________________________________________________________________\n",
      "block3_conv3 (Conv2D)        (None, 12, 12, 256)       590080    \n",
      "_________________________________________________________________\n",
      "block3_pool (MaxPooling2D)   (None, 6, 6, 256)         0         \n",
      "_________________________________________________________________\n",
      "block4_conv1 (Conv2D)        (None, 6, 6, 512)         1180160   \n",
      "_________________________________________________________________\n",
      "block4_conv2 (Conv2D)        (None, 6, 6, 512)         2359808   \n",
      "_________________________________________________________________\n",
      "block4_conv3 (Conv2D)        (None, 6, 6, 512)         2359808   \n",
      "_________________________________________________________________\n",
      "block4_pool (MaxPooling2D)   (None, 3, 3, 512)         0         \n",
      "_________________________________________________________________\n",
      "block5_conv1 (Conv2D)        (None, 3, 3, 512)         2359808   \n",
      "_________________________________________________________________\n",
      "block5_conv2 (Conv2D)        (None, 3, 3, 512)         2359808   \n",
      "_________________________________________________________________\n",
      "block5_conv3 (Conv2D)        (None, 3, 3, 512)         2359808   \n",
      "_________________________________________________________________\n",
      "block5_pool (MaxPooling2D)   (None, 1, 1, 512)         0         \n",
      "_________________________________________________________________\n",
      "flatten_2 (Flatten)          (None, 512)               0         \n",
      "_________________________________________________________________\n",
      "fc1 (Dense)                  (None, 1000)              513000    \n",
      "_________________________________________________________________\n",
      "dropout_2 (Dropout)          (None, 1000)              0         \n",
      "_________________________________________________________________\n",
      "predictions (Dense)          (None, 43)                43043     \n",
      "=================================================================\n",
      "Total params: 15,270,731\n",
      "Trainable params: 13,535,243\n",
      "Non-trainable params: 1,735,488\n",
      "_________________________________________________________________\n"
     ]
    }
   ],
   "source": [
    "model.summary()"
   ]
  },
  {
   "cell_type": "code",
   "execution_count": 95,
   "metadata": {},
   "outputs": [
    {
     "name": "stdout",
     "output_type": "stream",
     "text": [
      "Epoch 1/20\n",
      "123/123 [==============================] - 10s 64ms/step - loss: 3.1392 - accuracy: 0.1425 - val_loss: 1.4234 - val_accuracy: 0.4857\n",
      "Epoch 2/20\n",
      "123/123 [==============================] - 8s 61ms/step - loss: 1.1074 - accuracy: 0.6229 - val_loss: 0.5758 - val_accuracy: 0.7919\n",
      "Epoch 3/20\n",
      "123/123 [==============================] - 8s 62ms/step - loss: 0.4048 - accuracy: 0.8587 - val_loss: 0.2198 - val_accuracy: 0.9285\n",
      "Epoch 4/20\n",
      "123/123 [==============================] - 8s 62ms/step - loss: 0.1988 - accuracy: 0.9366 - val_loss: 0.2311 - val_accuracy: 0.9440\n",
      "Epoch 5/20\n",
      "123/123 [==============================] - 8s 61ms/step - loss: 0.1415 - accuracy: 0.9563 - val_loss: 0.0850 - val_accuracy: 0.9732\n",
      "Epoch 6/20\n",
      "123/123 [==============================] - 8s 61ms/step - loss: 0.0789 - accuracy: 0.9752 - val_loss: 0.0842 - val_accuracy: 0.9767\n",
      "Epoch 7/20\n",
      "123/123 [==============================] - 8s 62ms/step - loss: 0.0783 - accuracy: 0.9778 - val_loss: 0.1204 - val_accuracy: 0.9707\n",
      "Epoch 8/20\n",
      "123/123 [==============================] - 8s 61ms/step - loss: 0.0686 - accuracy: 0.9806 - val_loss: 0.0595 - val_accuracy: 0.9832\n",
      "Epoch 9/20\n",
      "123/123 [==============================] - 8s 61ms/step - loss: 0.0438 - accuracy: 0.9867 - val_loss: 0.0662 - val_accuracy: 0.9807\n",
      "Epoch 10/20\n",
      "123/123 [==============================] - 8s 62ms/step - loss: 0.0721 - accuracy: 0.9806 - val_loss: 0.0477 - val_accuracy: 0.9880\n",
      "Epoch 11/20\n",
      "123/123 [==============================] - 8s 62ms/step - loss: 0.0492 - accuracy: 0.9869 - val_loss: 0.1258 - val_accuracy: 0.9691\n",
      "Epoch 12/20\n",
      "123/123 [==============================] - 8s 63ms/step - loss: 0.0719 - accuracy: 0.9817 - val_loss: 0.0515 - val_accuracy: 0.9865\n",
      "Epoch 13/20\n",
      "123/123 [==============================] - 8s 66ms/step - loss: 0.0878 - accuracy: 0.9822 - val_loss: 0.7651 - val_accuracy: 0.7892\n",
      "Epoch 14/20\n",
      "123/123 [==============================] - 8s 63ms/step - loss: 0.2631 - accuracy: 0.9303 - val_loss: 0.0911 - val_accuracy: 0.9753\n",
      "Epoch 15/20\n",
      "123/123 [==============================] - 8s 64ms/step - loss: 0.0757 - accuracy: 0.9819 - val_loss: 0.0694 - val_accuracy: 0.9876\n",
      "Epoch 16/20\n",
      "123/123 [==============================] - 8s 62ms/step - loss: 0.0599 - accuracy: 0.9867 - val_loss: 0.0583 - val_accuracy: 0.9846\n",
      "Epoch 17/20\n",
      "123/123 [==============================] - 8s 62ms/step - loss: 0.0373 - accuracy: 0.9899 - val_loss: 0.0745 - val_accuracy: 0.9841\n",
      "Epoch 18/20\n",
      "123/123 [==============================] - 8s 61ms/step - loss: 0.0282 - accuracy: 0.9925 - val_loss: 0.0559 - val_accuracy: 0.9902\n",
      "Epoch 19/20\n",
      "123/123 [==============================] - 8s 61ms/step - loss: 0.0144 - accuracy: 0.9953 - val_loss: 0.0760 - val_accuracy: 0.9874\n",
      "Epoch 20/20\n",
      "123/123 [==============================] - 8s 62ms/step - loss: 0.0249 - accuracy: 0.9935 - val_loss: 0.0383 - val_accuracy: 0.9926\n",
      "Training took 155.14682 seconds\n"
     ]
    }
   ],
   "source": [
    "start = time.time()\n",
    "epochs = 20\n",
    "batch_size = 256\n",
    "\n",
    "model.fit(X_train, y_train, batch_size=batch_size,\n",
    "         validation_data=(X_valid, y_valid),\n",
    "         epochs=epochs)\n",
    "end = time.time()\n",
    "print('Training took {} seconds'.format(round(end-start, 5)))"
   ]
  },
  {
   "cell_type": "code",
   "execution_count": 96,
   "metadata": {},
   "outputs": [
    {
     "name": "stdout",
     "output_type": "stream",
     "text": [
      "395/395 [==============================] - 3s 8ms/step - loss: 0.3379 - accuracy: 0.9355\n",
      "Test Loss: 0.33793559670448303\n",
      "Test Accuracy: 0.9354711174964905\n"
     ]
    }
   ],
   "source": [
    "scores = model.evaluate(X_test, y_test, verbose=1)\n",
    "print('Test Loss: {}'.format(scores[0]))\n",
    "print('Test Accuracy: {}'.format(scores[1]))"
   ]
  },
  {
   "cell_type": "markdown",
   "metadata": {},
   "source": [
    "# Train full model"
   ]
  },
  {
   "cell_type": "code",
   "execution_count": 97,
   "metadata": {},
   "outputs": [
    {
     "name": "stdout",
     "output_type": "stream",
     "text": [
      "Model: \"vgg16\"\n",
      "_________________________________________________________________\n",
      "Layer (type)                 Output Shape              Param #   \n",
      "=================================================================\n",
      "input_4 (InputLayer)         [(None, 48, 48, 3)]       0         \n",
      "_________________________________________________________________\n",
      "block1_conv1 (Conv2D)        (None, 48, 48, 64)        1792      \n",
      "_________________________________________________________________\n",
      "block1_conv2 (Conv2D)        (None, 48, 48, 64)        36928     \n",
      "_________________________________________________________________\n",
      "block1_pool (MaxPooling2D)   (None, 24, 24, 64)        0         \n",
      "_________________________________________________________________\n",
      "block2_conv1 (Conv2D)        (None, 24, 24, 128)       73856     \n",
      "_________________________________________________________________\n",
      "block2_conv2 (Conv2D)        (None, 24, 24, 128)       147584    \n",
      "_________________________________________________________________\n",
      "block2_pool (MaxPooling2D)   (None, 12, 12, 128)       0         \n",
      "_________________________________________________________________\n",
      "block3_conv1 (Conv2D)        (None, 12, 12, 256)       295168    \n",
      "_________________________________________________________________\n",
      "block3_conv2 (Conv2D)        (None, 12, 12, 256)       590080    \n",
      "_________________________________________________________________\n",
      "block3_conv3 (Conv2D)        (None, 12, 12, 256)       590080    \n",
      "_________________________________________________________________\n",
      "block3_pool (MaxPooling2D)   (None, 6, 6, 256)         0         \n",
      "_________________________________________________________________\n",
      "block4_conv1 (Conv2D)        (None, 6, 6, 512)         1180160   \n",
      "_________________________________________________________________\n",
      "block4_conv2 (Conv2D)        (None, 6, 6, 512)         2359808   \n",
      "_________________________________________________________________\n",
      "block4_conv3 (Conv2D)        (None, 6, 6, 512)         2359808   \n",
      "_________________________________________________________________\n",
      "block4_pool (MaxPooling2D)   (None, 3, 3, 512)         0         \n",
      "_________________________________________________________________\n",
      "block5_conv1 (Conv2D)        (None, 3, 3, 512)         2359808   \n",
      "_________________________________________________________________\n",
      "block5_conv2 (Conv2D)        (None, 3, 3, 512)         2359808   \n",
      "_________________________________________________________________\n",
      "block5_conv3 (Conv2D)        (None, 3, 3, 512)         2359808   \n",
      "_________________________________________________________________\n",
      "block5_pool (MaxPooling2D)   (None, 1, 1, 512)         0         \n",
      "=================================================================\n",
      "Total params: 14,714,688\n",
      "Trainable params: 14,714,688\n",
      "Non-trainable params: 0\n",
      "_________________________________________________________________\n"
     ]
    }
   ],
   "source": [
    "base_model = VGG16(weights='imagenet', include_top=False, input_shape=input_shape)\n",
    "base_model.summary()"
   ]
  },
  {
   "cell_type": "code",
   "execution_count": 98,
   "metadata": {},
   "outputs": [],
   "source": [
    "# Take the last layer of model and add to classifier\n",
    "last = base_model.layers[-1].output\n",
    "x = Flatten()(last)\n",
    "x = Dense(1000, activation='relu', name='fc1')(x)\n",
    "x = Dropout(0.3)(x)\n",
    "x = Dense(NUM_CLASSES, activation='softmax', name='predictions')(x)\n",
    "model = Model(base_model.input, x)"
   ]
  },
  {
   "cell_type": "code",
   "execution_count": 99,
   "metadata": {},
   "outputs": [],
   "source": [
    "model.compile(optimizer=Adam(lr=0.001), loss='categorical_crossentropy', metrics=['accuracy'])"
   ]
  },
  {
   "cell_type": "code",
   "execution_count": 100,
   "metadata": {},
   "outputs": [
    {
     "name": "stdout",
     "output_type": "stream",
     "text": [
      "Model: \"model_3\"\n",
      "_________________________________________________________________\n",
      "Layer (type)                 Output Shape              Param #   \n",
      "=================================================================\n",
      "input_4 (InputLayer)         [(None, 48, 48, 3)]       0         \n",
      "_________________________________________________________________\n",
      "block1_conv1 (Conv2D)        (None, 48, 48, 64)        1792      \n",
      "_________________________________________________________________\n",
      "block1_conv2 (Conv2D)        (None, 48, 48, 64)        36928     \n",
      "_________________________________________________________________\n",
      "block1_pool (MaxPooling2D)   (None, 24, 24, 64)        0         \n",
      "_________________________________________________________________\n",
      "block2_conv1 (Conv2D)        (None, 24, 24, 128)       73856     \n",
      "_________________________________________________________________\n",
      "block2_conv2 (Conv2D)        (None, 24, 24, 128)       147584    \n",
      "_________________________________________________________________\n",
      "block2_pool (MaxPooling2D)   (None, 12, 12, 128)       0         \n",
      "_________________________________________________________________\n",
      "block3_conv1 (Conv2D)        (None, 12, 12, 256)       295168    \n",
      "_________________________________________________________________\n",
      "block3_conv2 (Conv2D)        (None, 12, 12, 256)       590080    \n",
      "_________________________________________________________________\n",
      "block3_conv3 (Conv2D)        (None, 12, 12, 256)       590080    \n",
      "_________________________________________________________________\n",
      "block3_pool (MaxPooling2D)   (None, 6, 6, 256)         0         \n",
      "_________________________________________________________________\n",
      "block4_conv1 (Conv2D)        (None, 6, 6, 512)         1180160   \n",
      "_________________________________________________________________\n",
      "block4_conv2 (Conv2D)        (None, 6, 6, 512)         2359808   \n",
      "_________________________________________________________________\n",
      "block4_conv3 (Conv2D)        (None, 6, 6, 512)         2359808   \n",
      "_________________________________________________________________\n",
      "block4_pool (MaxPooling2D)   (None, 3, 3, 512)         0         \n",
      "_________________________________________________________________\n",
      "block5_conv1 (Conv2D)        (None, 3, 3, 512)         2359808   \n",
      "_________________________________________________________________\n",
      "block5_conv2 (Conv2D)        (None, 3, 3, 512)         2359808   \n",
      "_________________________________________________________________\n",
      "block5_conv3 (Conv2D)        (None, 3, 3, 512)         2359808   \n",
      "_________________________________________________________________\n",
      "block5_pool (MaxPooling2D)   (None, 1, 1, 512)         0         \n",
      "_________________________________________________________________\n",
      "flatten_3 (Flatten)          (None, 512)               0         \n",
      "_________________________________________________________________\n",
      "fc1 (Dense)                  (None, 1000)              513000    \n",
      "_________________________________________________________________\n",
      "dropout_3 (Dropout)          (None, 1000)              0         \n",
      "_________________________________________________________________\n",
      "predictions (Dense)          (None, 43)                43043     \n",
      "=================================================================\n",
      "Total params: 15,270,731\n",
      "Trainable params: 15,270,731\n",
      "Non-trainable params: 0\n",
      "_________________________________________________________________\n"
     ]
    }
   ],
   "source": [
    "model.summary()"
   ]
  },
  {
   "cell_type": "code",
   "execution_count": 101,
   "metadata": {},
   "outputs": [
    {
     "name": "stdout",
     "output_type": "stream",
     "text": [
      "Epoch 1/20\n",
      "123/123 [==============================] - 13s 103ms/step - loss: 3.5326 - accuracy: 0.0688 - val_loss: 2.9138 - val_accuracy: 0.1417\n",
      "Epoch 2/20\n",
      "123/123 [==============================] - 12s 100ms/step - loss: 2.6573 - accuracy: 0.1945 - val_loss: 1.1304 - val_accuracy: 0.5935\n",
      "Epoch 3/20\n",
      "123/123 [==============================] - 12s 100ms/step - loss: 0.8714 - accuracy: 0.6782 - val_loss: 0.1882 - val_accuracy: 0.9410\n",
      "Epoch 4/20\n",
      "123/123 [==============================] - 12s 101ms/step - loss: 0.1673 - accuracy: 0.9480 - val_loss: 0.0848 - val_accuracy: 0.9769\n",
      "Epoch 5/20\n",
      "123/123 [==============================] - 12s 100ms/step - loss: 0.0587 - accuracy: 0.9851 - val_loss: 0.0435 - val_accuracy: 0.9889\n",
      "Epoch 6/20\n",
      "123/123 [==============================] - 12s 101ms/step - loss: 0.0327 - accuracy: 0.9914 - val_loss: 0.0855 - val_accuracy: 0.9784\n",
      "Epoch 7/20\n",
      "123/123 [==============================] - 12s 100ms/step - loss: 0.0639 - accuracy: 0.9819 - val_loss: 0.0465 - val_accuracy: 0.9888\n",
      "Epoch 8/20\n",
      "123/123 [==============================] - 12s 100ms/step - loss: 0.0374 - accuracy: 0.9911 - val_loss: 0.0378 - val_accuracy: 0.9865\n",
      "Epoch 9/20\n",
      "123/123 [==============================] - 12s 100ms/step - loss: 0.0234 - accuracy: 0.9943 - val_loss: 0.5098 - val_accuracy: 0.8595\n",
      "Epoch 10/20\n",
      "123/123 [==============================] - 12s 100ms/step - loss: 0.1529 - accuracy: 0.9601 - val_loss: 0.0453 - val_accuracy: 0.9909\n",
      "Epoch 11/20\n",
      "123/123 [==============================] - 12s 100ms/step - loss: 0.0261 - accuracy: 0.9930 - val_loss: 0.0570 - val_accuracy: 0.9878\n",
      "Epoch 12/20\n",
      "123/123 [==============================] - 12s 100ms/step - loss: 0.0836 - accuracy: 0.9802 - val_loss: 0.0595 - val_accuracy: 0.9842\n",
      "Epoch 13/20\n",
      "123/123 [==============================] - 12s 101ms/step - loss: 0.0579 - accuracy: 0.9858 - val_loss: 0.0286 - val_accuracy: 0.9927\n",
      "Epoch 14/20\n",
      "123/123 [==============================] - 12s 100ms/step - loss: 0.0175 - accuracy: 0.9953 - val_loss: 0.0280 - val_accuracy: 0.9944\n",
      "Epoch 15/20\n",
      "123/123 [==============================] - 12s 100ms/step - loss: 0.0170 - accuracy: 0.9964 - val_loss: 0.0582 - val_accuracy: 0.9887\n",
      "Epoch 16/20\n",
      "123/123 [==============================] - 12s 100ms/step - loss: 0.0192 - accuracy: 0.9951 - val_loss: 0.0116 - val_accuracy: 0.9976\n",
      "Epoch 17/20\n",
      "123/123 [==============================] - 12s 100ms/step - loss: 0.0224 - accuracy: 0.9954 - val_loss: 0.0147 - val_accuracy: 0.9964\n",
      "Epoch 18/20\n",
      "123/123 [==============================] - 12s 100ms/step - loss: 0.0087 - accuracy: 0.9981 - val_loss: 0.0242 - val_accuracy: 0.9957\n",
      "Epoch 19/20\n",
      "123/123 [==============================] - 12s 100ms/step - loss: 0.0065 - accuracy: 0.9984 - val_loss: 0.0214 - val_accuracy: 0.9958\n",
      "Epoch 20/20\n",
      "123/123 [==============================] - 12s 100ms/step - loss: 0.0792 - accuracy: 0.9876 - val_loss: 0.1163 - val_accuracy: 0.9707\n",
      "Training took 248.0908 seconds\n"
     ]
    }
   ],
   "source": [
    "start = time.time()\n",
    "epochs = 20\n",
    "batch_size = 256\n",
    "\n",
    "model.fit(X_train, y_train, batch_size=batch_size,\n",
    "         validation_data=(X_valid, y_valid),\n",
    "         epochs=epochs)\n",
    "end = time.time()\n",
    "print('Training took {} seconds'.format(round(end-start, 5)))"
   ]
  },
  {
   "cell_type": "code",
   "execution_count": 48,
   "metadata": {},
   "outputs": [
    {
     "name": "stdout",
     "output_type": "stream",
     "text": [
      "395/395 [==============================] - 3s 8ms/step - loss: 0.1597 - accuracy: 0.9683\n",
      "Test Loss: 0.15971246361732483\n",
      "Test Accuracy: 0.9683293700218201\n"
     ]
    }
   ],
   "source": [
    "scores = model.evaluate(X_test, y_test, verbose=1)\n",
    "print('Test Loss: {}'.format(scores[0]))\n",
    "print('Test Accuracy: {}'.format(scores[1]))"
   ]
  },
  {
   "cell_type": "code",
   "execution_count": 51,
   "metadata": {},
   "outputs": [
    {
     "data": {
      "text/plain": [
       "(48, 48, 3)"
      ]
     },
     "execution_count": 51,
     "metadata": {},
     "output_type": "execute_result"
    }
   ],
   "source": [
    "X_train[0].shape"
   ]
  },
  {
   "cell_type": "code",
   "execution_count": null,
   "metadata": {},
   "outputs": [],
   "source": []
  }
 ],
 "metadata": {
  "kernelspec": {
   "display_name": "Python 3",
   "language": "python",
   "name": "python3"
  },
  "language_info": {
   "codemirror_mode": {
    "name": "ipython",
    "version": 3
   },
   "file_extension": ".py",
   "mimetype": "text/x-python",
   "name": "python",
   "nbconvert_exporter": "python",
   "pygments_lexer": "ipython3",
   "version": "3.8.5"
  }
 },
 "nbformat": 4,
 "nbformat_minor": 4
}
